{
  "nbformat": 4,
  "nbformat_minor": 0,
  "metadata": {
    "colab": {
      "provenance": []
    },
    "kernelspec": {
      "name": "python3",
      "display_name": "Python 3"
    },
    "language_info": {
      "name": "python"
    }
  },
  "cells": [
    {
      "cell_type": "markdown",
      "source": [
        "Statistics Advanced - 1"
      ],
      "metadata": {
        "id": "Dzll3UlbYNPe"
      }
    },
    {
      "cell_type": "markdown",
      "source": [
        "# Question 1\n",
        "What is a random variable in probability theory?\n",
        "\n",
        "**Answer:**  \n",
        "A random variable is a variable whose value comes from the outcome of a random process.  \n",
        "- It assigns numbers to outcomes.  \n",
        "**Example:** When you toss a coin, define X = 1 if Heads, X = 0 if Tails. X is a random variable.\n",
        "\n",
        "# Question 2\n",
        "What are the types of random variables?\n",
        "\n",
        "**Answer:**  \n",
        "1) **Discrete random variable** – takes **countable** values (0, 1, 2, …).  \n",
        "   - Example: Number of calls received in an hour.  \n",
        "2) **Continuous random variable** – takes **any value in an interval** (uncountably many).  \n",
        "   - Example: Height, weight, temperature.\n",
        "\n",
        "# Question 3\n",
        "Explain the difference between discrete and continuous distributions.\n",
        "\n",
        "**Answer:**  \n",
        "- **Discrete distributions** describe probabilities of **separate counts/values**. We use probability mass function (PMF).  \n",
        "  - Example: Binomial distribution for number of successes in n trials.  \n",
        "- **Continuous distributions** describe probabilities over **ranges** of values. We use probability density function (PDF).  \n",
        "  - Example: Normal distribution for heights.  \n",
        "Key point: For continuous, P(X = exact value) = 0; we consider intervals.\n",
        "\n",
        "# Question 4\n",
        "What is a binomial distribution, and how is it used in probability?\n",
        "\n",
        "**Answer:**  \n",
        "The **binomial distribution** models the number of successes in **n independent trials**, where each trial has only two outcomes (success/failure) and the same success probability p.  \n",
        "- Notation: X ~ Binomial(n, p)  \n",
        "- Mean = np, Variance = np(1−p)  \n",
        "**Use:** Quality checks (defective/not), survey responses (yes/no), etc.\n",
        "\n",
        "# Question 5\n",
        "What is the standard normal distribution, and why is it important?\n",
        "\n",
        "**Answer:**  \n",
        "The **standard normal distribution** is a normal distribution with **mean 0** and **standard deviation 1** (Z ~ N(0,1)).  \n",
        "**Why important:**  \n",
        "- Any normal variable can be converted to Z using **z = (x − μ)/σ**.  \n",
        "- Widely used for **z-scores**, probability lookups, hypothesis tests, and confidence intervals.\n",
        "\n",
        "# Question 6\n",
        "What is the Central Limit Theorem (CLT), and why is it critical in statistics?\n",
        "\n",
        "**Answer:**  \n",
        "The **CLT** says: If we take many random samples from any population (with finite mean/variance) and compute their means, the **sampling distribution of the mean** becomes approximately **normal** as sample size grows (usually n ≥ 30 is enough).  \n",
        "**Why critical:**  \n",
        "- Lets us use normal (or t) methods for **confidence intervals** and **tests** even when the original data is not normal.\n",
        "\n",
        "# Question 7\n",
        "What is the significance of confidence intervals in statistical analysis?\n",
        "\n",
        "**Answer:**  \n",
        "A **confidence interval (CI)** gives a **range of plausible values** for a population parameter (like the true mean).  \n",
        "- A **95% CI** means: If we repeated sampling many times, about 95% of such intervals would contain the true value.  \n",
        "**Use:** It shows **estimate ± uncertainty**, not just a single number.\n",
        "\n",
        "# Question 8\n",
        "What is the concept of expected value in a probability distribution?\n",
        "\n",
        "**Answer:**  \n",
        "The **expected value (mean)** is the **long-run average** of a random variable.  \n",
        "- Discrete: \\( \\mathbb{E}[X] = \\sum x \\cdot P(X=x) \\)  \n",
        "- Continuous: \\( \\mathbb{E}[X] = \\int x f(x)\\,dx \\)  \n",
        "**Example:** For a fair die, \\( \\mathbb{E}[X] = (1+2+3+4+5+6)/6 = 3.5 \\)."
      ],
      "metadata": {
        "id": "K-Ugl8SFYcZw"
      }
    },
    {
      "cell_type": "code",
      "source": [
        "# Question 9\n",
        "# Generate 1000 random numbers from N(50, 5^2). Compute mean & std, then draw a histogram.\n",
        "\n",
        "import numpy as np\n",
        "import matplotlib.pyplot as plt\n",
        "\n",
        "# For reproducibility\n",
        "np.random.seed(42)\n",
        "\n",
        "# Generate data\n",
        "data = np.random.normal(loc=50, scale=5, size=1000)\n",
        "\n",
        "# Compute statistics\n",
        "mean_val = np.mean(data)\n",
        "std_val = np.std(data, ddof=0)  # population std for the generated data\n",
        "\n",
        "print(\"Sample Size:\", len(data))\n",
        "print(\"Mean (≈ should be near 50):\", round(mean_val, 3))\n",
        "print(\"Standard Deviation (≈ should be near 5):\", round(std_val, 3))\n",
        "\n",
        "# Histogram\n",
        "plt.hist(data, bins=30, edgecolor='black')\n",
        "plt.title(\"Histogram of Generated Normal Data (mean=50, sd=5)\")\n",
        "plt.xlabel(\"Value\")\n",
        "plt.ylabel(\"Frequency\")\n",
        "plt.show()\n",
        "\n",
        "# Explanation:\n",
        "# We generated 1000 values from a Normal(50, 25) distribution.\n",
        "# The sample mean and std should be close to 50 and 5 (random variation is normal)."
      ],
      "metadata": {
        "colab": {
          "base_uri": "https://localhost:8080/",
          "height": 524
        },
        "id": "8nArWj5gZAa5",
        "outputId": "a0fa260b-84d2-4174-f715-abe924824d22"
      },
      "execution_count": 1,
      "outputs": [
        {
          "output_type": "stream",
          "name": "stdout",
          "text": [
            "Sample Size: 1000\n",
            "Mean (≈ should be near 50): 50.097\n",
            "Standard Deviation (≈ should be near 5): 4.894\n"
          ]
        },
        {
          "output_type": "display_data",
          "data": {
            "text/plain": [
              "<Figure size 640x480 with 1 Axes>"
            ],
            "image/png": "[encoded data removed]"
          },
          "metadata": {}
        }
      ]
    },
    {
      "cell_type": "code",
      "source": [
        "# Question 10\n",
        "# Apply CLT idea to estimate mean sales with a 95% confidence interval, and compute it in Python.\n",
        "\n",
        "import numpy as np\n",
        "import math\n",
        "\n",
        "daily_sales = [220, 245, 210, 265, 230, 250, 260, 275, 240, 255,\n",
        "               235, 260, 245, 250, 225, 270, 265, 255, 250, 260]\n",
        "\n",
        "# Convert to array\n",
        "x = np.array(daily_sales, dtype=float)\n",
        "n = len(x)\n",
        "\n",
        "# Sample mean and standard deviation (sample std uses ddof=1)\n",
        "xbar = np.mean(x)\n",
        "s = np.std(x, ddof=1)\n",
        "\n",
        "# Standard error\n",
        "se = s / math.sqrt(n)\n",
        "\n",
        "# For n=20, use t critical value for 95% CI with df=19 (≈ 2.093)\n",
        "t_crit = 2.093\n",
        "\n",
        "# Confidence interval\n",
        "lower = xbar - t_crit * se\n",
        "upper = xbar + t_crit * se\n",
        "\n",
        "print(\"Sample Size (n):\", n)\n",
        "print(\"Mean Sales:\", round(xbar, 2))\n",
        "print(\"Sample Std Dev:\", round(s, 2))\n",
        "print(\"Standard Error:\", round(se, 3))\n",
        "print(\"95% CI for Mean: [\", round(lower, 2), \",\", round(upper, 2), \"]\")\n",
        "\n",
        "# Explanation:\n",
        "# CLT idea: The sampling distribution of the mean is ~normal.\n",
        "# With n=20, we use the t-distribution (df=19).\n",
        "# 95% CI = x̄ ± t*SE, which gives a plausible range for the true average daily sales."
      ],
      "metadata": {
        "colab": {
          "base_uri": "https://localhost:8080/"
        },
        "id": "Z3ImCAZaZDn5",
        "outputId": "8fb6bf36-b7a0-4af3-d9fa-718443d99f79"
      },
      "execution_count": 2,
      "outputs": [
        {
          "output_type": "stream",
          "name": "stdout",
          "text": [
            "Sample Size (n): 20\n",
            "Mean Sales: 248.25\n",
            "Sample Std Dev: 17.27\n",
            "Standard Error: 3.861\n",
            "95% CI for Mean: [ 240.17 , 256.33 ]\n"
          ]
        }
      ]
    }
  ]
}